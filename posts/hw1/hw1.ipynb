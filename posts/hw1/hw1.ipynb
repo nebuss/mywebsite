{
  "cells": [
    {
      "cell_type": "raw",
      "metadata": {},
      "source": [
        "---\n",
        "title: work1\n",
        "---"
      ],
      "id": "1acda194"
    },
    {
      "cell_type": "markdown",
      "metadata": {},
      "source": [
        "### 다음 표의 내용을 데이터 프레임으로 만들어 출력해보세요."
      ],
      "id": "384207ee"
    },
    {
      "cell_type": "code",
      "metadata": {},
      "source": [
        "import pandas as pd\n",
        "\n",
        "df = pd.DataFrame({'제품' : ['사과', '딸기', '수박'],\n",
        "                    '가격' : [1800, 1500, 3000],\n",
        "                    '판매량': [24, 38, 13]})\n",
        "df\n"
      ],
      "id": "102926f8",
      "execution_count": null,
      "outputs": []
    },
    {
      "cell_type": "markdown",
      "metadata": {},
      "source": [
        "### 앞에서 만든 데이터 프레임을 이용해 과일의 가격 평균과 판매량 평균을 구해 보세요."
      ],
      "id": "c9756303"
    },
    {
      "cell_type": "code",
      "metadata": {},
      "source": [
        "sum(df['가격'])/ 3"
      ],
      "id": "218dd90a",
      "execution_count": null,
      "outputs": []
    },
    {
      "cell_type": "code",
      "metadata": {},
      "source": [
        "sum(df['판매량']/3)"
      ],
      "id": "3c9b194b",
      "execution_count": null,
      "outputs": []
    },
    {
      "cell_type": "markdown",
      "metadata": {},
      "source": [
        "### mpg 데이터를 이용해 분석 문제를 해결해 보세요.\n",
        "\n",
        "### Q1. mpg 데이터를 불러와 복사본을 만드세요."
      ],
      "id": "b59638fb"
    },
    {
      "cell_type": "code",
      "metadata": {},
      "source": [
        "mpg = pd.read_csv('data/mpg.csv')\n",
        "df_new = mpg.copy()\n",
        "df_new"
      ],
      "id": "54d4f546",
      "execution_count": null,
      "outputs": []
    },
    {
      "cell_type": "markdown",
      "metadata": {},
      "source": [
        "### Q2. 복사본 데이터를 이용해 cty 는 city로, hwy는 highway로 수정하세요."
      ],
      "id": "80bbe88a"
    },
    {
      "cell_type": "code",
      "metadata": {},
      "source": [
        "df_new = df_new.rename(columns = {'cty' : 'city'})\n",
        "df_new = df_new.rename(columns = {'hwy':'highway'})"
      ],
      "id": "98d886b0",
      "execution_count": null,
      "outputs": []
    },
    {
      "cell_type": "markdown",
      "metadata": {},
      "source": [
        "### Q3. 데이터 일부를 출력해 변수명이 바뀌었는지 확인해보세요."
      ],
      "id": "55ebdece"
    },
    {
      "cell_type": "code",
      "metadata": {},
      "source": [
        "df_new.head(5)"
      ],
      "id": "d918bdd7",
      "execution_count": null,
      "outputs": []
    },
    {
      "cell_type": "markdown",
      "metadata": {},
      "source": [
        "### midwest.csv를 불러와 데이터 특징을 파악해보라"
      ],
      "id": "7b4683af"
    },
    {
      "cell_type": "code",
      "metadata": {},
      "source": [
        "import pandas as pd\n",
        "import matplotlib.pyplot as plt\n",
        "\n",
        "df_midwest = pd.read_csv('data/midwest.csv')\n",
        "df_midwest"
      ],
      "id": "f55c9552",
      "execution_count": null,
      "outputs": []
    },
    {
      "cell_type": "code",
      "metadata": {},
      "source": [
        "# 데이터프레임의 크기 (행, 열)\n",
        "print(\"Shape of the DataFrame:\", df_midwest.shape)\n",
        "\n",
        "# 데이터프레임의 열 이름\n",
        "col_names= df_midwest.columns.tolist()\n",
        "print(\"\\n\".join(col_names))\n"
      ],
      "id": "d17798e5",
      "execution_count": null,
      "outputs": []
    },
    {
      "cell_type": "code",
      "metadata": {},
      "source": [
        "# 데이터프레임의 데이터 유형\n",
        "print(\"Data types:\\n\", df_midwest.dtypes)\n",
        "\n",
        "# 각 열의 결측값 개수\n",
        "print(\"Missing values:\\n\", df_midwest.isnull().sum())"
      ],
      "id": "fb10f035",
      "execution_count": null,
      "outputs": []
    },
    {
      "cell_type": "markdown",
      "metadata": {},
      "source": [
        "##문제 2\n",
        "###poptotal(전체인구) 변수를 total로, popasian(아시아 인구) 변수를 asian으로 수정하세요."
      ],
      "id": "3922a573"
    },
    {
      "cell_type": "code",
      "metadata": {},
      "source": [
        "df_midwest = pd.read_csv('data/midwest.csv')\n",
        "df_midnew = df_midwest.copy()\n",
        "df_midnew = df_midnew.rename(columns = {'poptotal' : 'total'})\n",
        "df_midnew = df_midnew.rename(columns = {'popasian' : 'asian'})"
      ],
      "id": "92bb4798",
      "execution_count": null,
      "outputs": []
    },
    {
      "cell_type": "code",
      "metadata": {},
      "source": [
        "df_midnew"
      ],
      "id": "acf6747b",
      "execution_count": null,
      "outputs": []
    },
    {
      "cell_type": "markdown",
      "metadata": {},
      "source": [
        "## 문제3\n",
        "### total, asian 변수 이용해 '전체 인구 대비 아시아 인구 백분율' 파생변수를 추가하고, 히스토그램을\n",
        "만들어 분포를 살펴보세요."
      ],
      "id": "c698cc15"
    },
    {
      "cell_type": "code",
      "metadata": {},
      "source": [
        "df_midnew['asian_pop'] = (df_midnew['asian'] / df_midnew['total']) * 100\n",
        "\n",
        "df_midnew['asian_pop'].plot.hist()"
      ],
      "id": "7fce681d",
      "execution_count": null,
      "outputs": []
    },
    {
      "cell_type": "markdown",
      "metadata": {},
      "source": [
        "## 문제3 \n",
        "### 아시아 인구 백분율 전체 평균을 구하고, 평균을 초과하면 'large', 그 외에는 'small'을 부여한 파생변수를 만드시오.\n"
      ],
      "id": "710b1fcf"
    },
    {
      "cell_type": "code",
      "metadata": {},
      "source": [
        "asian_average = df_midnew['asian_pop'].mean()\n",
        "asian_average"
      ],
      "id": "bf50bc2e",
      "execution_count": null,
      "outputs": []
    },
    {
      "cell_type": "code",
      "metadata": {},
      "source": [
        "#평균을 초과하면 'large'\n",
        "df_midnew['large'] = (df_midnew['asian_pop'].mean() < df_midnew['asian_pop'])\n",
        "df_midnew"
      ],
      "id": "3855dd07",
      "execution_count": null,
      "outputs": []
    },
    {
      "cell_type": "code",
      "metadata": {},
      "source": [
        "#평균 미만이면 'small'\n",
        "df_midnew['small'] = (df_midnew['asian_pop'].mean() > df_midnew['asian_pop'])\n",
        "df_midnew"
      ],
      "id": "a68e5d83",
      "execution_count": null,
      "outputs": []
    },
    {
      "cell_type": "markdown",
      "metadata": {},
      "source": [
        "## 문제 5"
      ],
      "id": "e8032726"
    },
    {
      "cell_type": "code",
      "metadata": {},
      "source": [
        "# 'large'에 해당하는 빈도\n",
        "\n",
        "large_counts= df_midnew['large'].value_counts()\n",
        "print(large_counts)\n",
        "large_counts.plot.bar()"
      ],
      "id": "68873418",
      "execution_count": null,
      "outputs": []
    },
    {
      "cell_type": "code",
      "metadata": {},
      "source": [
        "# 'small'에 해당하는 빈도\n",
        "\n",
        "small_counts= df_midnew['small'].value_counts()\n",
        "print(large_counts)\n",
        "small_counts.plot.bar()"
      ],
      "id": "89db812d",
      "execution_count": null,
      "outputs": []
    },
    {
      "cell_type": "markdown",
      "metadata": {},
      "source": [
        "```\n"
      ],
      "id": "222094b4"
    }
  ],
  "metadata": {
    "kernelspec": {
      "name": "python3",
      "language": "python",
      "display_name": "Python 3 (ipykernel)"
    }
  },
  "nbformat": 4,
  "nbformat_minor": 5
}