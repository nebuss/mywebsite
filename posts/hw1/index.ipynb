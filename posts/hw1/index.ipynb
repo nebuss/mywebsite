{
  "cells": [
    {
      "cell_type": "raw",
      "metadata": {},
      "source": [
        "---\n",
        "title: work1\n",
        "author: Subeen\n",
        "date: '2021-07-17'\n",
        "categories:\n",
        "  - bigdata\n",
        "---"
      ],
      "id": "e177cb5d"
    },
    {
      "cell_type": "markdown",
      "metadata": {},
      "source": [
        "### 다음 표의 내용을 데이터 프레임으로 만들어 출력해보세요.\n"
      ],
      "id": "bae05e09"
    },
    {
      "cell_type": "code",
      "metadata": {},
      "source": [
        "import pandas as pd\n",
        "\n",
        "df = pd.DataFrame({'제품' : ['사과', '딸기', '수박'],\n",
        "                    '가격' : [1800, 1500, 3000],\n",
        "                    '판매량': [24, 38, 13]})\n",
        "df\n"
      ],
      "id": "813e3267",
      "execution_count": null,
      "outputs": []
    },
    {
      "cell_type": "markdown",
      "metadata": {},
      "source": [
        "### 앞에서 만든 데이터 프레임을 이용해 과일의 가격 평균과 판매량 평균을 구해 보세요.\n"
      ],
      "id": "2b856787"
    },
    {
      "cell_type": "code",
      "metadata": {},
      "source": [
        "sum(df['가격'])/ 3"
      ],
      "id": "f9a206d2",
      "execution_count": null,
      "outputs": []
    },
    {
      "cell_type": "code",
      "metadata": {},
      "source": [
        "sum(df['판매량']/3)"
      ],
      "id": "65a648f0",
      "execution_count": null,
      "outputs": []
    },
    {
      "cell_type": "markdown",
      "metadata": {},
      "source": [
        "### mpg 데이터를 이용해 분석 문제를 해결해 보세요.\n",
        "\n",
        "### Q1. mpg 데이터를 불러와 복사본을 만드세요."
      ],
      "id": "92ec708f"
    },
    {
      "cell_type": "code",
      "metadata": {},
      "source": [
        "mpg = pd.read_csv('data/mpg.csv')\n",
        "df_new = mpg.copy()\n",
        "df_new"
      ],
      "id": "be5fc5b9",
      "execution_count": null,
      "outputs": []
    },
    {
      "cell_type": "markdown",
      "metadata": {},
      "source": [
        "### Q2. 복사본 데이터를 이용해 cty 는 city로, hwy는 highway로 수정하세요."
      ],
      "id": "aa1ea5ae"
    },
    {
      "cell_type": "code",
      "metadata": {},
      "source": [
        "df_new = df_new.rename(columns = {'cty' : 'city'})\n",
        "df_new = df_new.rename(columns = {'hwy':'highway'})"
      ],
      "id": "e9cf5aca",
      "execution_count": null,
      "outputs": []
    },
    {
      "cell_type": "markdown",
      "metadata": {},
      "source": [
        "### Q3. 데이터 일부를 출력해 변수명이 바뀌었는지 확인해보세요."
      ],
      "id": "8aeadfaa"
    },
    {
      "cell_type": "code",
      "metadata": {},
      "source": [
        "df_new.head(5)"
      ],
      "id": "f6cfce43",
      "execution_count": null,
      "outputs": []
    },
    {
      "cell_type": "markdown",
      "metadata": {},
      "source": [
        "### midwest.csv를 불러와 데이터 특징을 파악해보라"
      ],
      "id": "e1e1bb60"
    },
    {
      "cell_type": "code",
      "metadata": {},
      "source": [
        "import pandas as pd\n",
        "import matplotlib.pyplot as plt\n",
        "\n",
        "df_midwest = pd.read_csv('data/midwest.csv')\n",
        "df_midwest"
      ],
      "id": "030c832f",
      "execution_count": null,
      "outputs": []
    },
    {
      "cell_type": "code",
      "metadata": {},
      "source": [
        "# 데이터프레임의 크기 (행, 열)\n",
        "print(\"Shape of the DataFrame:\", df_midwest.shape)\n",
        "\n",
        "# 데이터프레임의 열 이름\n",
        "col_names= df_midwest.columns.tolist()\n",
        "print(\"\\n\".join(col_names))\n"
      ],
      "id": "e3ee0397",
      "execution_count": null,
      "outputs": []
    },
    {
      "cell_type": "code",
      "metadata": {},
      "source": [
        "# 데이터프레임의 데이터 유형\n",
        "print(\"Data types:\\n\", df_midwest.dtypes)\n",
        "\n",
        "# 각 열의 결측값 개수\n",
        "print(\"Missing values:\\n\", df_midwest.isnull().sum())"
      ],
      "id": "7d67dcbc",
      "execution_count": null,
      "outputs": []
    },
    {
      "cell_type": "markdown",
      "metadata": {},
      "source": [
        "##문제 2\n",
        "###poptotal(전체인구) 변수를 total로, popasian(아시아 인구) 변수를 asian으로 수정하세요.\n"
      ],
      "id": "71fa64e5"
    },
    {
      "cell_type": "code",
      "metadata": {},
      "source": [
        "df_midwest = pd.read_csv('data/midwest.csv')\n",
        "df_midnew = df_midwest.copy()\n",
        "df_midnew = df_midnew.rename(columns = {'poptotal' : 'total'})\n",
        "df_midnew = df_midnew.rename(columns = {'popasian' : 'asian'})"
      ],
      "id": "5e829cab",
      "execution_count": null,
      "outputs": []
    },
    {
      "cell_type": "code",
      "metadata": {},
      "source": [
        "df_midnew"
      ],
      "id": "d6d37d32",
      "execution_count": null,
      "outputs": []
    },
    {
      "cell_type": "markdown",
      "metadata": {},
      "source": [
        "## 문제3\n",
        "### total, asian 변수 이용해 '전체 인구 대비 아시아 인구 백분율' 파생변수를 추가하고, 히스토그램을\n",
        "만들어 분포를 살펴보세요.\n"
      ],
      "id": "67850800"
    },
    {
      "cell_type": "code",
      "metadata": {},
      "source": [
        "df_midnew['asian_pop'] = (df_midnew['asian'] / df_midnew['total']) * 100\n",
        "\n",
        "df_midnew['asian_pop'].plot.hist()"
      ],
      "id": "241861ad",
      "execution_count": null,
      "outputs": []
    },
    {
      "cell_type": "markdown",
      "metadata": {},
      "source": [
        "## 문제3 \n",
        "### 아시아 인구 백분율 전체 평균을 구하고, 평균을 초과하면 'large', 그 외에는 'small'을 부여한 파생변수를 만드시오.\n"
      ],
      "id": "c1c14403"
    },
    {
      "cell_type": "code",
      "metadata": {},
      "source": [
        "asian_average = df_midnew['asian_pop'].mean()\n",
        "asian_average"
      ],
      "id": "b3862a29",
      "execution_count": null,
      "outputs": []
    },
    {
      "cell_type": "code",
      "metadata": {},
      "source": [
        "#평균을 초과하면 'large'\n",
        "df_midnew['large'] = (df_midnew['asian_pop'].mean() < df_midnew['asian_pop'])\n",
        "df_midnew"
      ],
      "id": "455338a8",
      "execution_count": null,
      "outputs": []
    },
    {
      "cell_type": "code",
      "metadata": {},
      "source": [
        "#평균 미만이면 'small'\n",
        "df_midnew['small'] = (df_midnew['asian_pop'].mean() > df_midnew['asian_pop'])\n",
        "df_midnew"
      ],
      "id": "91af9125",
      "execution_count": null,
      "outputs": []
    },
    {
      "cell_type": "markdown",
      "metadata": {},
      "source": [
        "## 문제 5"
      ],
      "id": "95018e50"
    },
    {
      "cell_type": "code",
      "metadata": {},
      "source": [
        "# 'large'에 해당하는 빈도\n",
        "\n",
        "large_counts= df_midnew['large'].value_counts()\n",
        "print(large_counts)\n",
        "large_counts.plot.bar()"
      ],
      "id": "b2fb48cd",
      "execution_count": null,
      "outputs": []
    },
    {
      "cell_type": "code",
      "metadata": {},
      "source": [
        "# 'small'에 해당하는 빈도\n",
        "\n",
        "small_counts= df_midnew['small'].value_counts()\n",
        "print(large_counts)\n",
        "small_counts.plot.bar()"
      ],
      "id": "a3b7cb0c",
      "execution_count": null,
      "outputs": []
    },
    {
      "cell_type": "markdown",
      "metadata": {},
      "source": [
        "```\n"
      ],
      "id": "a660e9d4"
    }
  ],
  "metadata": {
    "kernelspec": {
      "name": "python3",
      "language": "python",
      "display_name": "Python 3 (ipykernel)"
    }
  },
  "nbformat": 4,
  "nbformat_minor": 5
}