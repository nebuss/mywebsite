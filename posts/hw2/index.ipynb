{
  "cells": [
    {
      "cell_type": "raw",
      "metadata": {},
      "source": [
        "---\n",
        "title: ':LS 빅데이터 스쿨 HomeWork2'\n",
        "author: Subeen\n",
        "date: '2021-07-17'\n",
        "categories:\n",
        "  - bigdata\n",
        "---"
      ],
      "id": "151919d2"
    },
    {
      "cell_type": "markdown",
      "metadata": {},
      "source": [
        "0716\n",
        "### Q1. 자동차 배기량에 따라 고속도로 연비가 다른지 알아보려고 한다. \n",
        "### displ(배기량)이 4이하인 자동차와 5 이상인 자동차 중 어떤 자동차의 hwy(고속도로 연비)평균이 더 높은지 알아보세요\n"
      ],
      "id": "a1e68fd8"
    },
    {
      "cell_type": "code",
      "metadata": {},
      "source": [
        "import pandas as pd\n",
        "import numpy as np\n",
        "\n",
        "mpg = pd.read_csv('data/mpg.csv')\n",
        "mpg\n",
        "displ_4=mpg.query('displ  <= 4')\n",
        "displ_4"
      ],
      "id": "bb9f3ad6",
      "execution_count": null,
      "outputs": []
    },
    {
      "cell_type": "code",
      "metadata": {},
      "source": [
        "displ_5=mpg.query('displ  >= 5')\n",
        "displ_5"
      ],
      "id": "dc61241d",
      "execution_count": null,
      "outputs": []
    },
    {
      "cell_type": "code",
      "metadata": {},
      "source": [
        "displ_4_mean=displ_4['hwy'].mean() # displ_4는 데이터 프레임 형식이니까, 내가 알고 싶은 배기량 열로 접근\n",
        "displ_5_mean=displ_5['hwy'].mean()\n",
        "\n",
        "displ_4_mean"
      ],
      "id": "53a007f3",
      "execution_count": null,
      "outputs": []
    },
    {
      "cell_type": "code",
      "metadata": {},
      "source": [
        "displ_5_mean\n",
        "\n",
        "result = displ_4_mean > displ_5_mean\n",
        "print(result)\n",
        "\n",
        "print(\"결과: 배기량이 4인 자동차의 고속도로 연비 평균이 더 높다.\")"
      ],
      "id": "cc68b276",
      "execution_count": null,
      "outputs": []
    },
    {
      "cell_type": "markdown",
      "metadata": {},
      "source": [
        "### Q2. 자동차 제조 회사에 따라 도시 연비가 어떻게 다른지 알아보려고 합니다.\n",
        "### 'audi'와 'toyota' 중 어느 manufacturer 의 cty(도시연비) 평균이 더 높은지 알아보세요.\n"
      ],
      "id": "4724a515"
    },
    {
      "cell_type": "code",
      "metadata": {},
      "source": [
        "mpg_audi = mpg.query('manufacturer == \"audi\"')"
      ],
      "id": "2bb9e89e",
      "execution_count": null,
      "outputs": []
    },
    {
      "cell_type": "code",
      "metadata": {},
      "source": [
        "mpg_toyota = mpg.query('manufacturer == \"toyota\"')\n",
        "mpg_toyota"
      ],
      "id": "00d4b164",
      "execution_count": null,
      "outputs": []
    },
    {
      "cell_type": "code",
      "metadata": {},
      "source": [
        "mpg_audi['hwy'].mean()"
      ],
      "id": "ac404aa7",
      "execution_count": null,
      "outputs": []
    },
    {
      "cell_type": "code",
      "metadata": {},
      "source": [
        "mpg_toyota['hwy'].mean()\n",
        "print(\"결과: 아우디 회사의 도시연비 평균이 더 높다.\")"
      ],
      "id": "a15f6620",
      "execution_count": null,
      "outputs": []
    },
    {
      "cell_type": "markdown",
      "metadata": {},
      "source": [
        "### Q3. 'chevoret', 'ford', 'honda' 자동차의 고속도로 연비평균을 알아보려고 합니다.\n",
        "### 세 회사의 데이터를 추출한 다음 hwy 전체 평균을 구해 보세요."
      ],
      "id": "410b264c"
    },
    {
      "cell_type": "code",
      "metadata": {},
      "source": [
        "hwy_mpg = mpg.query('manufacturer in [\"chevoret\", \"ford\", \"honda\"]')\n",
        "mean_hwy = hwy_mpg['hwy'].mean()\n",
        "mean_hwy"
      ],
      "id": "219a1abc",
      "execution_count": null,
      "outputs": []
    },
    {
      "cell_type": "markdown",
      "metadata": {},
      "source": [
        "-------------------------------------------------\n",
        "\n",
        "\n",
        "### Q1. 'audi'에서 생산한 자동차 중에 어떤 자동차 모델의 hwy(고속도로 연비)가 높은지 알아보려고 한다.\n",
        "### audi 에서 생산한 자동차 중 hwy가 1~5위에 해당하는 자동차의 데이터를 출력하세요.\n"
      ],
      "id": "c9b40922"
    },
    {
      "cell_type": "code",
      "metadata": {},
      "source": [
        "mpg_audi = mpg.query('manufacturer == \"audi\"')\\\n",
        "              .sort_values('hwy', ascending=False)\\\n",
        "              .head(5)"
      ],
      "id": "a15660f6",
      "execution_count": null,
      "outputs": []
    }
  ],
  "metadata": {
    "kernelspec": {
      "name": "python3",
      "language": "python",
      "display_name": "Python 3 (ipykernel)"
    }
  },
  "nbformat": 4,
  "nbformat_minor": 5
}